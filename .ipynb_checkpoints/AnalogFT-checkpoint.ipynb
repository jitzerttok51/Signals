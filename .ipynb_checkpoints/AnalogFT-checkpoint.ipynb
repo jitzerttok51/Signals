{
 "cells": [
  {
   "cell_type": "code",
   "execution_count": 1,
   "metadata": {},
   "outputs": [],
   "source": [
    "from sympy import *\n",
    "import matplotlib.pyplot as plt\n",
    "from sympy import init_printing\n",
    "init_printing()"
   ]
  },
  {
   "cell_type": "code",
   "execution_count": 2,
   "metadata": {},
   "outputs": [],
   "source": [
    "t, k = symbols('t k');"
   ]
  },
  {
   "cell_type": "code",
   "execution_count": 3,
   "metadata": {},
   "outputs": [],
   "source": [
    "A = 4\n",
    "T = 10 * 10**-3\n",
    "N = 5"
   ]
  },
  {
   "cell_type": "code",
   "execution_count": 4,
   "metadata": {},
   "outputs": [],
   "source": [
    "s = Piecewise(\n",
    "    (A, Or(And(t>=0, t<T/4), And(t>3*T/4, t<T))),\n",
    "    (-A, And(t>T/4, t<3*T/4)),\n",
    "    (0, True)\n",
    ")"
   ]
  },
  {
   "cell_type": "code",
   "execution_count": 5,
   "metadata": {},
   "outputs": [],
   "source": [
    "import numpy as np"
   ]
  },
  {
   "cell_type": "code",
   "execution_count": 6,
   "metadata": {
    "scrolled": true
   },
   "outputs": [
    {
     "data": {
      "image/png": "[encoded data removed]",
      "text/plain": [
       "<Figure size 432x288 with 1 Axes>"
      ]
     },
     "metadata": {
      "needs_background": "light"
     },
     "output_type": "display_data"
    }
   ],
   "source": [
    "fs = lambdify(t, s, 'numpy')\n",
    "x = np.linspace(0, T, 1000)\n",
    "plt.plot(x, fs(x))\n",
    "plt.grid(True)"
   ]
  },
  {
   "cell_type": "code",
   "execution_count": 7,
   "metadata": {},
   "outputs": [],
   "source": [
    "S = 2*integrate(s * exp(-1j*(2*pi)/T*k*t), (t, 0, T))/T"
   ]
  },
  {
   "cell_type": "code",
   "execution_count": 8,
   "metadata": {
    "scrolled": true
   },
   "outputs": [
    {
     "data": {
      "image/png": "[encoded data removed]",
      "text/latex": [
       "$$200.0 \\left(\\begin{cases} - \\frac{0.02 i}{\\pi k} + \\frac{0.02 i e^{- 2.0 i \\pi k}}{\\pi k} - \\frac{0.04 i e^{- 1.5 i \\pi k}}{\\pi k} + \\frac{0.04 i e^{- 0.5 i \\pi k}}{\\pi k} & \\text{for}\\: k > -\\infty \\wedge k < \\infty \\wedge k \\neq 0 \\\\5.20417042793042 \\cdot 10^{-18} & \\text{otherwise} \\end{cases}\\right)$$"
      ],
      "text/plain": [
       "      ⎛⎧                   -2.0⋅ⅈ⋅π⋅k           -1.5⋅ⅈ⋅π⋅k           -0.5⋅ⅈ⋅π⋅\n",
       "      ⎜⎪  0.02⋅ⅈ   0.02⋅ⅈ⋅ℯ             0.04⋅ⅈ⋅ℯ             0.04⋅ⅈ⋅ℯ         \n",
       "      ⎜⎪- ────── + ────────────────── - ────────────────── + ─────────────────\n",
       "200.0⋅⎜⎨   π⋅k            π⋅k                  π⋅k                  π⋅k       \n",
       "      ⎜⎪                                                                      \n",
       "      ⎜⎪                         5.20417042793042e-18                         \n",
       "      ⎝⎩                                                                      \n",
       "\n",
       "k                            ⎞\n",
       "                             ⎟\n",
       "─  for k > -∞ ∧ k < ∞ ∧ k ≠ 0⎟\n",
       "                             ⎟\n",
       "                             ⎟\n",
       "           otherwise         ⎟\n",
       "                             ⎠"
      ]
     },
     "execution_count": 8,
     "metadata": {},
     "output_type": "execute_result"
    }
   ],
   "source": [
    "S"
   ]
  },
  {
   "cell_type": "code",
   "execution_count": 9,
   "metadata": {},
   "outputs": [],
   "source": [
    "w = 2*pi/T*k"
   ]
  },
  {
   "cell_type": "code",
   "execution_count": 34,
   "metadata": {},
   "outputs": [],
   "source": [
    "spectrum = np.zeros((3, N))\n",
    "for i in range(0,N):\n",
    "    spectrum[0, i] = w.subs(k, i).evalf()\n",
    "    harmonic = complex(S.subs(k, i).evalf())\n",
    "    harmonic = round(harmonic.real, 4) + round(harmonic.imag, 4) * 1j\n",
    "    spectrum[1, i] = np.abs(harmonic)\n",
    "    spectrum[2, i] = np.angle(harmonic, deg=True)"
   ]
  },
  {
   "cell_type": "code",
   "execution_count": 35,
   "metadata": {},
   "outputs": [
    {
     "data": {
      "text/plain": [
       "Text(0.5, 0, 'Честота [rad/s]')"
      ]
     },
     "execution_count": 35,
     "metadata": {},
     "output_type": "execute_result"
    },
    {
     "data": {
      "image/png": "[encoded data removed]",
      "text/plain": [
       "<Figure size 432x288 with 1 Axes>"
      ]
     },
     "metadata": {
      "needs_background": "light"
     },
     "output_type": "display_data"
    }
   ],
   "source": [
    "plt.stem(spectrum[0],spectrum[1])\n",
    "plt.grid(True)\n",
    "plt.title(\"Амплитуден Спектър\")\n",
    "plt.ylabel(\"Амплитуда [V]\")\n",
    "plt.xlabel(\"Честота [rad/s]\")"
   ]
  },
  {
   "cell_type": "code",
   "execution_count": 36,
   "metadata": {
    "scrolled": true
   },
   "outputs": [
    {
     "data": {
      "text/plain": [
       "Text(0.5, 0, 'Честота [rad/s]')"
      ]
     },
     "execution_count": 36,
     "metadata": {},
     "output_type": "execute_result"
    },
    {
     "data": {
      "image/png": "[encoded data removed]",
      "text/plain": [
       "<Figure size 432x288 with 1 Axes>"
      ]
     },
     "metadata": {
      "needs_background": "light"
     },
     "output_type": "display_data"
    }
   ],
   "source": [
    "plt.stem(spectrum[0],spectrum[2])\n",
    "plt.grid(True)\n",
    "plt.title(\"Фазов Спектър\")\n",
    "plt.ylabel(\"Фаза [deg]\")\n",
    "plt.xlabel(\"Честота [rad/s]\")"
   ]
  },
  {
   "cell_type": "code",
   "execution_count": 37,
   "metadata": {},
   "outputs": [
    {
     "name": "stdout",
     "output_type": "stream",
     "text": [
      "Harminic #0: Amplitude:0.0000 Phase: 0.0000\n",
      "Harminic #1: Amplitude:5.0930 Phase: 0.0000\n",
      "Harminic #2: Amplitude:0.0000 Phase: 0.0000\n",
      "Harminic #3: Amplitude:1.6977 Phase: 180.0000\n",
      "Harminic #4: Amplitude:0.0000 Phase: 0.0000\n"
     ]
    }
   ],
   "source": [
    "a=0\n",
    "for i in np.transpose(spectrum):\n",
    "    print(\"Harminic #%d: Amplitude:%.4f Phase: %.4f\" % (a, i[1], i[2]))\n",
    "    a=a+1"
   ]
  },
  {
   "cell_type": "code",
   "execution_count": 40,
   "metadata": {
    "scrolled": true
   },
   "outputs": [
    {
     "name": "stdout",
     "output_type": "stream",
     "text": [
      "(5.092958178940651-1.6940658945086007e-21j)\n"
     ]
    }
   ],
   "source": [
    "harmonic = complex(S.subs(k, 1).evalf())\n",
    "#harmonic = round(harmonic.real, 2) + round(harmonic.imag, 2) * 1j\n",
    "print (harmonic)"
   ]
  },
  {
   "cell_type": "code",
   "execution_count": 48,
   "metadata": {},
   "outputs": [
    {
     "data": {
      "image/png": "[encoded data removed]",
      "text/plain": [
       "<Figure size 432x288 with 1 Axes>"
      ]
     },
     "metadata": {
      "needs_background": "light"
     },
     "output_type": "display_data"
    }
   ],
   "source": [
    "fs = lambdify(t, s.subs(t,t+0.001), 'numpy')\n",
    "x = np.linspace(0, 2*T, 1000)\n",
    "plt.plot(x, fs(x))\n",
    "plt.grid(True)"
   ]
  },
  {
   "cell_type": "code",
   "execution_count": null,
   "metadata": {},
   "outputs": [],
   "source": []
  }
 ],
 "metadata": {
  "kernelspec": {
   "display_name": "Python 3",
   "language": "python",
   "name": "python3"
  },
  "language_info": {
   "codemirror_mode": {
    "name": "ipython",
    "version": 3
   },
   "file_extension": ".py",
   "mimetype": "text/x-python",
   "name": "python",
   "nbconvert_exporter": "python",
   "pygments_lexer": "ipython3",
   "version": "3.7.1"
  }
 },
 "nbformat": 4,
 "nbformat_minor": 2
}
