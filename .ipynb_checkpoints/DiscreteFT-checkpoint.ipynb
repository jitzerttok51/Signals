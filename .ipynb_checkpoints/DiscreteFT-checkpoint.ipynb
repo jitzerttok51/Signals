{
 "cells": [
  {
   "cell_type": "code",
   "execution_count": 1,
   "metadata": {},
   "outputs": [],
   "source": [
    "import numpy as np\n",
    "import matplotlib.pyplot as plt"
   ]
  },
  {
   "cell_type": "code",
   "execution_count": 172,
   "metadata": {},
   "outputs": [],
   "source": [
    "period = 50\n",
    "povtoreniq = 2\n",
    "discretiNaPeriod = 50"
   ]
  },
  {
   "cell_type": "code",
   "execution_count": 173,
   "metadata": {},
   "outputs": [],
   "source": [
    "time = np.arange(0, povtoreniq*discretiNaPeriod, period/discretiNaPeriod)"
   ]
  },
  {
   "cell_type": "code",
   "execution_count": 127,
   "metadata": {},
   "outputs": [],
   "source": [
    "def gausualSignal(time, discretiNaPeriod, koefZapulvane=0.5, ampUp=1, ampDown=0):\n",
    "    signal = np.zeros(time.size)\n",
    "    fi=0\n",
    "    for i in range(0, time.size):\n",
    "        if(i%discretiNaPeriod<=discretiNaPeriod*koefZapulvane):\n",
    "            signal[i]=ampUp*np.sin(np.pi*fi/(discretiNaPeriod*koefZapulvane))\n",
    "            fi = fi + 1\n",
    "        else:\n",
    "            fi=0\n",
    "            signal[i]=ampDown\n",
    "    return signal"
   ]
  },
  {
   "cell_type": "code",
   "execution_count": 128,
   "metadata": {},
   "outputs": [],
   "source": [
    "def squareSignal(time, discretiNaPeriod, koefZapulvane=0.5, ampUp=1, ampDown=0):\n",
    "    signal = np.zeros(time.size)\n",
    "    for i in range(0, time.size):\n",
    "        if(i%discretiNaPeriod<=discretiNaPeriod*koefZapulvane):\n",
    "            signal[i]=ampUp\n",
    "        else:\n",
    "            signal[i]=ampDown\n",
    "    return sign"
   ]
  },
  {
   "cell_type": "code",
   "execution_count": 167,
   "metadata": {},
   "outputs": [],
   "source": [
    "def sineSignal(time, discretiNaPeriod, amp=1):\n",
    "    signal = np.zeros(time.size)\n",
    "    for i in range(0, time.size):\n",
    "        signal[i]=amp*np.sin(2*np.pi*i/(discretiNaPeriod-1))\n",
    "    return signal"
   ]
  },
  {
   "cell_type": "code",
   "execution_count": 174,
   "metadata": {},
   "outputs": [],
   "source": [
    "signal = sineSignal(time, discretiNaPeriod)"
   ]
  },
  {
   "cell_type": "code",
   "execution_count": 175,
   "metadata": {
    "scrolled": true
   },
   "outputs": [
    {
     "data": {
      "text/plain": [
       "<StemContainer object of 3 artists>"
      ]
     },
     "execution_count": 175,
     "metadata": {},
     "output_type": "execute_result"
    },
    {
     "data": {
      "image/png": "[encoded data removed]",
      "text/plain": [
       "<Figure size 432x288 with 1 Axes>"
      ]
     },
     "metadata": {
      "needs_background": "light"
     },
     "output_type": "display_data"
    }
   ],
   "source": [
    "plt.stem(time, signal)"
   ]
  },
  {
   "cell_type": "code",
   "execution_count": 171,
   "metadata": {},
   "outputs": [
    {
     "data": {
      "text/plain": [
       "0.0"
      ]
     },
     "execution_count": 171,
     "metadata": {},
     "output_type": "execute_result"
    }
   ],
   "source": [
    "signal[0]"
   ]
  },
  {
   "cell_type": "code",
   "execution_count": null,
   "metadata": {},
   "outputs": [],
   "source": []
  }
 ],
 "metadata": {
  "kernelspec": {
   "display_name": "Python 3",
   "language": "python",
   "name": "python3"
  },
  "language_info": {
   "codemirror_mode": {
    "name": "ipython",
    "version": 3
   },
   "file_extension": ".py",
   "mimetype": "text/x-python",
   "name": "python",
   "nbconvert_exporter": "python",
   "pygments_lexer": "ipython3",
   "version": "3.7.1"
  }
 },
 "nbformat": 4,
 "nbformat_minor": 2
}
